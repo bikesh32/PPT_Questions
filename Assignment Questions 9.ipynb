{
 "cells": [
  {
   "cell_type": "markdown",
   "id": "51f3fe79",
   "metadata": {},
   "source": [
    "Given an integer `n`, return *`true` if it is a power of two. Otherwise, return `false`*.\n",
    "\n",
    "An integer `n` is a power of two, if there exists an integer `x` such that `n == 2x`.\n",
    "\n",
    "**Example 1:**\n",
    "Input: n = 1 \n",
    "\n",
    "Output: true\n",
    "\n",
    "**Example 2:**\n",
    "Input: n = 16 \n",
    "\n",
    "Output: true\n",
    "\n",
    "**Example 3:**\n",
    "Input: n = 3 \n",
    "\n",
    "Output: false"
   ]
  },
  {
   "cell_type": "code",
   "execution_count": 1,
   "id": "938f73eb",
   "metadata": {},
   "outputs": [],
   "source": [
    "class Solution:\n",
    "    def isPowerOfTwo(self, n: int) -> bool:\n",
    "        if n<=0:\n",
    "            return False\n",
    "        while n>0:\n",
    "            if n==1:\n",
    "                return True\n",
    "            elif n%2==0:\n",
    "                n/=2\n",
    "            else:\n",
    "                return False"
   ]
  },
  {
   "cell_type": "markdown",
   "id": "0b426550",
   "metadata": {},
   "source": [
    "\n",
    "💡 **Question 2**\n",
    "\n",
    "Given a number n, find the sum of the first natural numbers.\n",
    "\n"
   ]
  },
  {
   "cell_type": "code",
   "execution_count": 2,
   "id": "9243ed4f",
   "metadata": {},
   "outputs": [
    {
     "name": "stdout",
     "output_type": "stream",
     "text": [
      "The sum is 136\n"
     ]
    }
   ],
   "source": [
    "# Sum of natural numbers up to num\n",
    "\n",
    "num = 16\n",
    "\n",
    "if num < 0:\n",
    "   print(\"Enter a positive number\")\n",
    "else:\n",
    "   sum = 0\n",
    "   # use while loop to iterate until zero\n",
    "   while(num > 0):\n",
    "       sum += num\n",
    "       num -= 1\n",
    "   print(\"The sum is\", sum)"
   ]
  },
  {
   "cell_type": "markdown",
   "id": "0613974a",
   "metadata": {},
   "source": [
    "Given a positive integer, N. Find the factorial of N. "
   ]
  },
  {
   "cell_type": "code",
   "execution_count": 5,
   "id": "f73a8c71",
   "metadata": {},
   "outputs": [
    {
     "name": "stdout",
     "output_type": "stream",
     "text": [
      "Enter a number: 21\n",
      "The factorial of 21 is 51090942171709440000\n"
     ]
    }
   ],
   "source": [
    "\n",
    "\n",
    "num = int(input(\"Enter a number: \"))\n",
    "\n",
    "factorial = 1\n",
    "\n",
    "\n",
    "if num < 0:\n",
    "   print(\"Sorry, factorial does not exist for negative numbers\")\n",
    "elif num == 0:\n",
    "   print(\"The factorial of 0 is 1\")\n",
    "else:\n",
    "   for i in range(1,num + 1):\n",
    "       factorial = factorial*i\n",
    "   print(\"The factorial of\",num,\"is\",factorial)"
   ]
  },
  {
   "cell_type": "markdown",
   "id": "b60c0ac4",
   "metadata": {},
   "source": [
    "\n",
    "Given a number N and a power P, the task is to find the exponent of this number raised to the given power, i.e. N^P."
   ]
  },
  {
   "cell_type": "code",
   "execution_count": 7,
   "id": "8a8fd652",
   "metadata": {},
   "outputs": [
    {
     "name": "stdout",
     "output_type": "stream",
     "text": [
      "Answer = 81\n"
     ]
    }
   ],
   "source": [
    "base = 3\n",
    "exponent = 4\n",
    "\n",
    "result = 1\n",
    "\n",
    "for exponent in range(exponent, 0, -1):\n",
    "    result *= base\n",
    "\n",
    "print(\"Answer = \" + str(result))"
   ]
  },
  {
   "cell_type": "markdown",
   "id": "ece01956",
   "metadata": {},
   "source": [
    "Given an array of integers arr, the task is to find maximum element of that array using recursion."
   ]
  },
  {
   "cell_type": "code",
   "execution_count": 6,
   "id": "88515186",
   "metadata": {},
   "outputs": [
    {
     "name": "stdout",
     "output_type": "stream",
     "text": [
      "45\n"
     ]
    }
   ],
   "source": [
    "def findMaxRec(A, n):\n",
    "    if (n == 1):\n",
    "        return A[0]\n",
    "    return max(A[n - 1], findMaxRec(A, n - 1))\n",
    " \n",
    "# Driver Code\n",
    "if __name__ == \"__main__\":\n",
    "     \n",
    "    A = [1, 4, 45, 6, -50, 10, 2]\n",
    "    n = len(A)\n",
    "    print(findMaxRec(A, n))"
   ]
  },
  {
   "cell_type": "markdown",
   "id": "2a0da578",
   "metadata": {},
   "source": [
    "Given first term (a), common difference (d) and a integer N of the Arithmetic Progression series, the task is to find Nth term of the series."
   ]
  },
  {
   "cell_type": "code",
   "execution_count": 8,
   "id": "ecde4701",
   "metadata": {},
   "outputs": [
    {
     "name": "stdout",
     "output_type": "stream",
     "text": [
      "The 5 th term of the series is: 6\n"
     ]
    }
   ],
   "source": [
    "a = 2\n",
    "d = 1\n",
    "n = 5\n",
    " \n",
    "nthTerm = a\n",
    "for i in range(1, n):\n",
    "    nthTerm += d\n",
    " \n",
    "print(\"The\", n, \"th term of the series is:\", nthTerm)"
   ]
  },
  {
   "cell_type": "markdown",
   "id": "2194a978",
   "metadata": {},
   "source": [
    "Given a string S, the task is to write a program to print all permutations of a given string."
   ]
  },
  {
   "cell_type": "code",
   "execution_count": 9,
   "id": "a179bf72",
   "metadata": {},
   "outputs": [
    {
     "name": "stdout",
     "output_type": "stream",
     "text": [
      "yup\n",
      "ypu\n",
      "uyp\n",
      "upy\n",
      "puy\n",
      "pyu\n",
      "None\n"
     ]
    }
   ],
   "source": [
    "\n",
    "\n",
    "def get_permutation(string, i=0):\n",
    "\n",
    "    if i == len(string):   \t \n",
    "        print(\"\".join(string))\n",
    "\n",
    "    for j in range(i, len(string)):\n",
    "\n",
    "        words = [c for c in string]\n",
    "   \n",
    "        # swap\n",
    "        words[i], words[j] = words[j], words[i]\n",
    "   \t \n",
    "        get_permutation(words, i + 1)\n",
    "\n",
    "print(get_permutation('yup'))"
   ]
  },
  {
   "cell_type": "markdown",
   "id": "58518251",
   "metadata": {},
   "source": [
    "Given an array, find a product of all array elements."
   ]
  },
  {
   "cell_type": "code",
   "execution_count": 10,
   "id": "00a43b3f",
   "metadata": {},
   "outputs": [
    {
     "name": "stdout",
     "output_type": "stream",
     "text": [
      "5040\n"
     ]
    }
   ],
   "source": [
    "arr = [2,4,7,9,10]\n",
    "product = 1\n",
    "\n",
    "# for loop\n",
    "for num in arr:\n",
    "    product = product * num\n",
    "# display the result\n",
    "print(product)"
   ]
  },
  {
   "cell_type": "code",
   "execution_count": null,
   "id": "739844a7",
   "metadata": {},
   "outputs": [],
   "source": []
  }
 ],
 "metadata": {
  "kernelspec": {
   "display_name": "Python 3 (ipykernel)",
   "language": "python",
   "name": "python3"
  },
  "language_info": {
   "codemirror_mode": {
    "name": "ipython",
    "version": 3
   },
   "file_extension": ".py",
   "mimetype": "text/x-python",
   "name": "python",
   "nbconvert_exporter": "python",
   "pygments_lexer": "ipython3",
   "version": "3.10.9"
  }
 },
 "nbformat": 4,
 "nbformat_minor": 5
}
