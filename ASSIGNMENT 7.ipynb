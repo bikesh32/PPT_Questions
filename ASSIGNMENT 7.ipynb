{
 "cells": [
  {
   "cell_type": "markdown",
   "id": "9e1c1d1f",
   "metadata": {},
   "source": [
    "Given two strings s and t, *determine if they are isomorphic*.\n",
    "\n",
    "Two strings s and t are isomorphic if the characters in s can be replaced to get t.\n",
    "\n",
    "All occurrences of a character must be replaced with another character while preserving the order of characters. No two characters may map to the same character, but a character may map to itself.\n",
    "\n",
    "**Example 1:**\n",
    "\n",
    "**Input:** s = \"egg\", t = \"add\"\n",
    "\n",
    "**Output:** true"
   ]
  },
  {
   "cell_type": "code",
   "execution_count": 6,
   "id": "22c10e9e",
   "metadata": {},
   "outputs": [
    {
     "name": "stdout",
     "output_type": "stream",
     "text": [
      "True\n"
     ]
    }
   ],
   "source": [
    "s=\"add\"\n",
    "t=\"egg\"\n",
    "map1 = []\n",
    "map2 = []\n",
    "for idx in s:\n",
    "    map1.append(s.index(idx))\n",
    "for idx in t:\n",
    "    map2.append(t.index(idx))\n",
    "if map1 == map2:\n",
    "     print(True)\n",
    "else:\n",
    "    print(False)"
   ]
  },
  {
   "cell_type": "markdown",
   "id": "c40e850d",
   "metadata": {},
   "source": [
    "💡 **Question 2**\n",
    "\n",
    "Given a string num which represents an integer, return true *if* num *is a **strobogrammatic number***.\n",
    "\n",
    "A **strobogrammatic number** is a number that looks the same when rotated 180 degrees (looked at upside down).\n",
    "\n",
    "**Example 1:**\n",
    "\n",
    "**Input:** num = \"69\"\n",
    "\n",
    "**Output:**\n",
    "\n",
    "true\n",
    "\n"
   ]
  },
  {
   "cell_type": "code",
   "execution_count": 11,
   "id": "d97b3e96",
   "metadata": {},
   "outputs": [
    {
     "name": "stdout",
     "output_type": "stream",
     "text": [
      "['10101', '80108', '60109', '90106', '11111', '81118', '61119', '91116', '18181', '88188', '68189', '98186', '16191', '86198', '66199', '96196', '19161', '89168', '69169', '99166', '10801', '80808', '60809', '90806', '11811', '81818', '61819', '91816', '18881', '88888', '68889', '98886', '16891', '86898', '66899', '96896', '19861', '89868', '69869', '99866', '10001', '80008', '60009', '90006', '11011', '81018', '61019', '91016', '18081', '88088', '68089', '98086', '16091', '86098', '66099', '96096', '19061', '89068', '69069', '99066']\n"
     ]
    }
   ],
   "source": [
    "def get_strobogrammatic_numbers(n):\n",
    "\n",
    "    def helper_func(n, length):\n",
    "        if n == 0:\n",
    "            return [\"\"]\n",
    "        if n == 1:\n",
    "            return [\"1\", \"8\", \"0\"]\n",
    "\n",
    "        middle = helper_func(n-2, length)\n",
    "        results = []\n",
    "        for mid in middle:\n",
    "            if n != length:\n",
    "                results.append(\"0\"+mid+\"0\")\n",
    "            results.append(\"1\" + mid + \"1\")\n",
    "            results.append(\"8\" + mid + \"8\")\n",
    "            results.append(\"6\" + mid + \"9\")\n",
    "            results.append(\"9\" + mid + \"6\")\n",
    "\n",
    "        return results\n",
    "\n",
    "    result = helper_func(n, n)\n",
    "\n",
    "    return result\n",
    "\n",
    "\n",
    "if __name__ == '__main__':\n",
    "    print(get_strobogrammatic_numbers(5))"
   ]
  },
  {
   "cell_type": "markdown",
   "id": "8bc72acd",
   "metadata": {},
   "source": [
    "Given two non-negative integers, num1 and num2 represented as string, return *the sum of* num1 *and* num2 *as a string*.\n",
    "\n",
    "You must solve the problem without using any built-in library for handling large integers (such as BigInteger). You must also not convert the inputs to integers directly.\n",
    "\n",
    "**Example 1:**\n",
    "\n",
    "**Input:** num1 = \"11\", num2 = \"123\"\n",
    "\n",
    "**Output:**\n",
    "\n",
    "\"134\""
   ]
  },
  {
   "cell_type": "code",
   "execution_count": 34,
   "id": "4fca3fd2",
   "metadata": {},
   "outputs": [],
   "source": [
    "num1= \"123\"\n",
    "num2= \"11\"\n",
    "def addStrings(self, num1, num2):\n",
    "        result = \"\"\n",
    "        carry = 0\n",
    "\n",
    "        def equalizeNumberOfCharacters(num1, num2):\n",
    "            if len(num1) < len(num2):\n",
    "                while len(num1) != len(num2):\n",
    "                    num1 = \"0\" + num1\n",
    "            else:\n",
    "                while len(num2) != len(num1):\n",
    "                    num2 = \"0\" + num2\n",
    "            return [num1,num2]\n",
    "        \n",
    "        num1, num2 = equalizeNumberOfCharacters(num1, num2)\n",
    "        \n",
    "        num1Array = list(num1)\n",
    "        num2Array = list(num2)\n",
    "        \n",
    "        while len(num1Array) != 0:\n",
    "            add = int(num1Array.pop()) + int(num2Array.pop()) + int(carry)\n",
    "            carry = add // 10\n",
    "            result = str(add % 10) + result\n",
    "        \n",
    "        if carry != 0:\n",
    "            result = str(carry) + result\n",
    "        return result"
   ]
  },
  {
   "cell_type": "markdown",
   "id": "15c10627",
   "metadata": {},
   "source": [
    "\n",
    "\n",
    "Given a string s, reverse the order of characters in each word within a sentence while still preserving whitespace and initial word order.\n",
    "\n",
    "**Example 1:**\n",
    "\n",
    "**Input:** s = \"Let's take LeetCode contest\"\n",
    "\n",
    "**Output:** \"s'teL ekat edoCteeL tsetnoc\"\n"
   ]
  },
  {
   "cell_type": "code",
   "execution_count": 54,
   "id": "de4c8d60",
   "metadata": {},
   "outputs": [
    {
     "name": "stdout",
     "output_type": "stream",
     "text": [
      "s'teL ekat edoCteeL tsetnoc "
     ]
    }
   ],
   "source": [
    "s = \"Let's take LeetCode contest\"\n",
    "for i in s.split():\n",
    "    a = \"\".join(i[::-1])\n",
    "    print(a,end=\" \")\n",
    "   \n"
   ]
  },
  {
   "cell_type": "markdown",
   "id": "b4bf0939",
   "metadata": {},
   "source": [
    "\n",
    "\n",
    "Given a string s and an integer k, reverse the first k characters for every 2k characters counting from the start of the string.\n",
    "\n",
    "If there are fewer than k characters left, reverse all of them. If there are less than 2k but greater than or equal to k characters, then reverse the first k characters and leave the other as original.\n",
    "\n",
    "**Example 1:**\n",
    "\n",
    "**Input:** s = \"abcdefg\", k = 2\n",
    "\n",
    "**Output:**\n",
    "\n",
    "\"bacdfeg\"\n"
   ]
  },
  {
   "cell_type": "code",
   "execution_count": 55,
   "id": "0b519848",
   "metadata": {},
   "outputs": [
    {
     "name": "stdout",
     "output_type": "stream",
     "text": [
      "cbadefg\n"
     ]
    }
   ],
   "source": [
    "class Solution:\n",
    "   def reverseStr(self, s, k):\n",
    "      l = list(s)\n",
    "      i = k-1\n",
    "      while i < len(l)+k:\n",
    "         a = l[:i-k+1]\n",
    "         b = l[i-k+1:i+1]\n",
    "         c = l[i+1:]\n",
    "         l = a + b[::-1] + c\n",
    "         i += 2*k\n",
    "      return ''.join(l)\n",
    "\n",
    "ob = Solution()\n",
    "print(ob.reverseStr(\"abcdefg\", 3))"
   ]
  },
  {
   "cell_type": "markdown",
   "id": "ba7bcb3e",
   "metadata": {},
   "source": [
    "Given two strings s and goal, return true *if and only if* s *can become* goal *after some number of **shifts** on* s.\n",
    "\n",
    "A **shift** on s consists of moving the leftmost character of s to the rightmost position.\n",
    "\n",
    "- For example, if s = \"abcde\", then it will be \"bcdea\" after one shift.\n",
    "\n",
    "**Example 1:**\n",
    "\n",
    "**Input:** s = \"abcde\", goal = \"cdeab\"\n",
    "\n",
    "**Output:**\n",
    "\n",
    "true"
   ]
  },
  {
   "cell_type": "code",
   "execution_count": 66,
   "id": "b604e814",
   "metadata": {},
   "outputs": [],
   "source": [
    "class Solution(object):\n",
    "    s= \"abcde\"\n",
    "    goal=\"bcdea\"\n",
    "    def rotateString(self, s, goal):\n",
    "        s = list(s)\n",
    "        for i in range(len(s)):\n",
    "            s.append(s[0])\n",
    "            del s[0]\n",
    "            if s == list(goal):\n",
    "                return True\n",
    "        return False"
   ]
  },
  {
   "cell_type": "markdown",
   "id": "62d1b9a0",
   "metadata": {},
   "source": [
    "Given two strings s and t, return true *if they are equal when both are typed into empty text editors*. '#' means a backspace character.\n",
    "\n",
    "Note that after backspacing an empty text, the text will continue empty.\n",
    "\n",
    "**Example 1:**\n",
    "\n",
    "**Input:** s = \"ab#c\", t = \"ad#c\"\n",
    "\n",
    "**Output:** true\n",
    "\n",
    "**Explanation:**\n",
    "\n",
    "Both s and t become \"ac\"."
   ]
  },
  {
   "cell_type": "code",
   "execution_count": 62,
   "id": "fadc79ad",
   "metadata": {},
   "outputs": [
    {
     "name": "stdout",
     "output_type": "stream",
     "text": [
      "TRUE\n"
     ]
    }
   ],
   "source": [
    "def removeBackspace(s) -> str:\n",
    "    n = len(s)\n",
    "    \n",
    "    idx = 0\n",
    "    for i in range(0, n):\n",
    "        if(s[i] != '#'):\n",
    "            s = s[:idx] + s[i] + s[idx+1:]\n",
    "            idx += 1\n",
    "        elif(s[i] == '#' and idx >= 0):\n",
    "            idx -= 1\n",
    "        \n",
    "        if(idx < 0):\n",
    "            idx = 0\n",
    "    ans = \"\"\n",
    "    for i in range(0, idx):\n",
    "        ans += s[i]\n",
    "    return ans\n",
    " \n",
    " \n",
    "# Driver code\n",
    "s = \"ab#c\"\n",
    "t = \"ad#c\"\n",
    "if(removeBackspace(s) == removeBackspace(t)):\n",
    "      print(\"TRUE\")\n",
    "else:\n",
    "    print(\"FALSE\")"
   ]
  },
  {
   "cell_type": "markdown",
   "id": "f3777ed8",
   "metadata": {},
   "source": [
    "You are given an array coordinates, coordinates[i] = [x, y], where [x, y] represents the coordinate of a point. Check if these points make a straight line in the XY plane."
   ]
  },
  {
   "cell_type": "code",
   "execution_count": 64,
   "id": "8314a4d4",
   "metadata": {},
   "outputs": [
    {
     "name": "stdout",
     "output_type": "stream",
     "text": [
      "YES"
     ]
    },
    {
     "data": {
      "text/plain": [
       "True"
      ]
     },
     "execution_count": 64,
     "metadata": {},
     "output_type": "execute_result"
    }
   ],
   "source": [
    "\n",
    "def isStraightLinePossible(arr, n):\n",
    "     \n",
    "    # First pair of point (x0, y0)\n",
    "    x0 = arr[0][0]\n",
    "    y0 = arr[0][1]\n",
    " \n",
    "    # Second pair of point (x1, y1)\n",
    "    x1 = arr[1][0]\n",
    "    y1 = arr[1][1]\n",
    " \n",
    "    dx = x1 - x0\n",
    "    dy = y1 - y0\n",
    "     \n",
    "    for i in range(n):\n",
    "        x = arr[i][0]\n",
    "        y = arr[i][1]\n",
    "         \n",
    "        if (dx * (y - y1) != dy * (x - x1)):\n",
    "            print(\"NO\", end = \"\")\n",
    "            return False\n",
    " \n",
    "    print(\"YES\", end = \"\")\n",
    "    return True\n",
    " \n",
    "\n",
    "arr = [ [ 0, 0 ], [ 1, 1 ],\n",
    "        [ 3, 3 ], [ 2, 2 ] ]\n",
    "n = 4\n",
    " \n",
    "\n",
    "isStraightLinePossible(arr, n)\n"
   ]
  },
  {
   "cell_type": "code",
   "execution_count": null,
   "id": "96adc223",
   "metadata": {},
   "outputs": [],
   "source": []
  },
  {
   "cell_type": "code",
   "execution_count": null,
   "id": "b1403e86",
   "metadata": {},
   "outputs": [],
   "source": []
  },
  {
   "cell_type": "code",
   "execution_count": null,
   "id": "56f3a107",
   "metadata": {},
   "outputs": [],
   "source": []
  },
  {
   "cell_type": "code",
   "execution_count": null,
   "id": "78237583",
   "metadata": {},
   "outputs": [],
   "source": []
  },
  {
   "cell_type": "code",
   "execution_count": null,
   "id": "6968b540",
   "metadata": {},
   "outputs": [],
   "source": []
  },
  {
   "cell_type": "code",
   "execution_count": null,
   "id": "872cd8c2",
   "metadata": {},
   "outputs": [],
   "source": []
  },
  {
   "cell_type": "code",
   "execution_count": null,
   "id": "029e2607",
   "metadata": {},
   "outputs": [],
   "source": []
  },
  {
   "cell_type": "code",
   "execution_count": null,
   "id": "2b6c9a2b",
   "metadata": {},
   "outputs": [],
   "source": []
  },
  {
   "cell_type": "code",
   "execution_count": null,
   "id": "b26ffe03",
   "metadata": {},
   "outputs": [],
   "source": []
  },
  {
   "cell_type": "code",
   "execution_count": null,
   "id": "e34b23d5",
   "metadata": {},
   "outputs": [],
   "source": []
  },
  {
   "cell_type": "code",
   "execution_count": null,
   "id": "d9d8ae35",
   "metadata": {},
   "outputs": [],
   "source": []
  },
  {
   "cell_type": "code",
   "execution_count": null,
   "id": "50dfcc69",
   "metadata": {},
   "outputs": [],
   "source": []
  },
  {
   "cell_type": "code",
   "execution_count": null,
   "id": "3f93af40",
   "metadata": {},
   "outputs": [],
   "source": []
  },
  {
   "cell_type": "code",
   "execution_count": null,
   "id": "870bd47d",
   "metadata": {},
   "outputs": [],
   "source": []
  }
 ],
 "metadata": {
  "kernelspec": {
   "display_name": "Python 3 (ipykernel)",
   "language": "python",
   "name": "python3"
  },
  "language_info": {
   "codemirror_mode": {
    "name": "ipython",
    "version": 3
   },
   "file_extension": ".py",
   "mimetype": "text/x-python",
   "name": "python",
   "nbconvert_exporter": "python",
   "pygments_lexer": "ipython3",
   "version": "3.10.9"
  }
 },
 "nbformat": 4,
 "nbformat_minor": 5
}
