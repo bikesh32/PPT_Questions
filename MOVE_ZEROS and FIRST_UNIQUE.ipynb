{
 "cells": [
  {
   "cell_type": "markdown",
   "id": "1b39bfe6",
   "metadata": {},
   "source": [
    "# Move Zeroes\n",
    "Given an integer array nums, move all 0's to the end of it while maintaining the relative order of the non-zero elements."
   ]
  },
  {
   "cell_type": "code",
   "execution_count": 2,
   "id": "58388aef",
   "metadata": {},
   "outputs": [
    {
     "name": "stdout",
     "output_type": "stream",
     "text": [
      "[1, 2, 3, 45, 6, 7, 5, 0, 0, 0, 0, 0]\n"
     ]
    }
   ],
   "source": [
    "arr = [0,1,2,0,3,0,45,6,0,7,5,0]\n",
    "c=0\n",
    "for i in range(len(arr)):\n",
    "  if arr[i]!= 0:\n",
    "    arr[c] = arr[i]\n",
    "    c += 1\n",
    "while c <(len(arr)):\n",
    "  arr[c]=0\n",
    "  c+=1\n",
    "print(arr)"
   ]
  },
  {
   "cell_type": "code",
   "execution_count": null,
   "id": "72feacdc",
   "metadata": {},
   "outputs": [],
   "source": []
  },
  {
   "cell_type": "markdown",
   "id": "d7eb1b4e",
   "metadata": {},
   "source": [
    "# First Unique Character in a String\n",
    "\n",
    "Given a string s, find the first non-repeating character in it and return its index. If it does not exist, return -1.\n"
   ]
  },
  {
   "cell_type": "code",
   "execution_count": 13,
   "id": "bd28e8b5",
   "metadata": {},
   "outputs": [
    {
     "name": "stdout",
     "output_type": "stream",
     "text": [
      "First non-repeating character is c\n"
     ]
    }
   ],
   "source": [
    "\n",
    "string = \"abdcadbbd\"\n",
    "index = -1\n",
    "fnc = \"\"\n",
    " \n",
    "if len(string) == 0 :\n",
    "    print(\"EMTPY STRING\");\n",
    " \n",
    "for i in string:\n",
    "    if string.count(i) == 1:\n",
    "        fnc += i\n",
    "        break\n",
    "    else:\n",
    "        index += 1\n",
    "if index == len(string)-1 :\n",
    "    print(\"All characters are repeating \")\n",
    "else:\n",
    "    print(\"First non-repeating character is\", fnc)"
   ]
  },
  {
   "cell_type": "code",
   "execution_count": null,
   "id": "89c9e816",
   "metadata": {},
   "outputs": [],
   "source": []
  }
 ],
 "metadata": {
  "kernelspec": {
   "display_name": "Python 3 (ipykernel)",
   "language": "python",
   "name": "python3"
  },
  "language_info": {
   "codemirror_mode": {
    "name": "ipython",
    "version": 3
   },
   "file_extension": ".py",
   "mimetype": "text/x-python",
   "name": "python",
   "nbconvert_exporter": "python",
   "pygments_lexer": "ipython3",
   "version": "3.10.9"
  }
 },
 "nbformat": 4,
 "nbformat_minor": 5
}
